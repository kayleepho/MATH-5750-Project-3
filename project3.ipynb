{
  "nbformat": 4,
  "nbformat_minor": 0,
  "metadata": {
    "colab": {
      "provenance": [],
      "include_colab_link": true
    },
    "kernelspec": {
      "name": "python3",
      "display_name": "Python 3"
    },
    "language_info": {
      "name": "python"
    }
  },
  "cells": [
    {
      "cell_type": "markdown",
      "metadata": {
        "id": "view-in-github",
        "colab_type": "text"
      },
      "source": [
        "<a href=\"https://colab.research.google.com/github/kayleepho/MATH-5750-Project-3/blob/main/project3.ipynb\" target=\"_parent\"><img src=\"https://colab.research.google.com/assets/colab-badge.svg\" alt=\"Open In Colab\"/></a>"
      ]
    },
    {
      "cell_type": "markdown",
      "source": [
        "Math 5750/6880: Mathematics of Data Science \\\n",
        "Project 3"
      ],
      "metadata": {
        "id": "0gdC70xxFyc4"
      }
    },
    {
      "cell_type": "markdown",
      "source": [
        "# 1. Fashion-MNIST image classification using sklearn\n",
        "In this exercise, you will build a\n",
        "classifier for the Fashion-MNIST image dataset using the sklearn MLPClassifier.\\\\\n",
        "- Use the provided code to import and preprocess the Fashion-MNIST image dataset. \\\\\n",
        "- Build a dense neural network\n",
        "using MLPClassifier. \\\\\n",
        "- Start with a simple model architecture and train your model.\\\\\n",
        "- Then experiment with your model/training method by changing:\\\\\n",
        "• the number of hidden layers and neurons\\\\\n",
        "• the activation functions\\\\\n",
        "• optimization method and the learning rate\\\\\n",
        "• regularization or early stopping settings.\\\\\n",
        "- Observe how each change affects convergence speed and accuracy."
      ],
      "metadata": {
        "id": "i9_7SnpMGKDJ"
      }
    },
    {
      "cell_type": "code",
      "source": [
        "from tensorflow.keras.datasets import fashion_mnist\n",
        "from sklearn.preprocessing import StandardScaler\n",
        "\n",
        "# Load Fashion-MNIST\n",
        "# Classes (0-9): T-shirt/top, Trouser, Pullover, Dress, Coat, Sandal, Shirt, Sneaker, Bag, Ankle boot\n",
        "(X_train, y_train), (X_test, y_test) = fashion_mnist.load_data()\n",
        "X_train = X_train.reshape(len(X_train), -1)\n",
        "X_test  = X_test.reshape(len(X_test), -1)\n",
        "\n",
        "# Scale features\n",
        "scaler = StandardScaler()\n",
        "X_train = scaler.fit_transform(X_train)\n",
        "X_test = scaler.transform(X_test)"
      ],
      "metadata": {
        "id": "AB136H0PGKq1"
      },
      "execution_count": 8,
      "outputs": []
    },
    {
      "cell_type": "code",
      "source": [
        "from sklearn.neural_network import MLPClassifier\n",
        "from sklearn.metrics import accuracy_score, classification_report, confusion_matrix\n",
        "\n",
        "# Build a dense neural network using MLPClassifier.\n",
        "mlp = MLPClassifier(hidden_layer_sizes=(100,), activation='relu', solver='adam', random_state=42)\n",
        "\n",
        "# Train the model\n",
        "mlp.fit(X_train, y_train)\n",
        "\n",
        "# Make predictions\n",
        "y_pred = mlp.predict(X_test)\n",
        "\n",
        "accuracy = accuracy_score(y_test, y_pred)\n",
        "print(f\"Accuracy: {accuracy}\")"
      ],
      "metadata": {
        "id": "5GAsN-dmHjRM",
        "outputId": "6733635b-6bce-4009-e5cd-0da7fd934b22",
        "colab": {
          "base_uri": "https://localhost:8080/"
        }
      },
      "execution_count": 9,
      "outputs": [
        {
          "output_type": "stream",
          "name": "stdout",
          "text": [
            "Accuracy: 0.8836\n"
          ]
        }
      ]
    },
    {
      "cell_type": "code",
      "source": [
        "# Changing the number of hidden layers and neurons\n",
        "mlp1 = MLPClassifier(hidden_layer_sizes=(100, 50), activation='relu', solver='adam', random_state=42)\n",
        "mlp1.fit(X_train, y_train)\n",
        "y_pred1 = mlp1.predict(X_test)\n",
        "accuracy1 = accuracy_score(y_test, y_pred1)\n",
        "print(f\"Accuracy: {accuracy1}\")"
      ],
      "metadata": {
        "id": "sWGekiZ3FDvu"
      },
      "execution_count": null,
      "outputs": []
    },
    {
      "cell_type": "code",
      "source": [
        "# Changing the activation functions\n",
        "mlp2 = MLPClassifier(hidden_layer_sizes=(100,), activation='tanh', solver='adam', random_state=42)\n",
        "mlp2.fit(X_train, y_train)\n",
        "y_pred2 = mlp2.predict(X_test)\n",
        "accuracy2 = accuracy_score(y_test, y_pred2)\n",
        "print(f\"Accuracy: {accuracy2}\")"
      ],
      "metadata": {
        "id": "2F0az6bKFWaH"
      },
      "execution_count": null,
      "outputs": []
    },
    {
      "cell_type": "code",
      "source": [
        "# Changing optimization method and the learning rate\n",
        "mlp3 = MLPClassifier(hidden_layer_sizes=(100,), activation='relu', solver='sgd', learning_rate_init=0.00, random_state=42)\n",
        "mlp3.fit(X_train, y_train)\n",
        "y_pred3 = mlp3.predict(X_test)\n",
        "accuracy3 = accuracy_score(y_test, y_pred3)\n",
        "print(f\"Accuracy: {accuracy3}\")"
      ],
      "metadata": {
        "id": "LXLQTbU6FdPm"
      },
      "execution_count": null,
      "outputs": []
    },
    {
      "cell_type": "code",
      "source": [
        "# Changing regularization or early stopping settings\n",
        "mlp4 = MLPClassifier(hidden_layer_sizes=(100,), activation='relu', solver='adam', early_stopping=True, random_state=42)\n",
        "mlp4.fit(X_train, y_train)\n",
        "y_pred4 = mlp4.predict(X_test)\n",
        "accuracy4 = accuracy_score(y_test, y_pred4)\n",
        "print(f\"Accuracy: {accuracy4}\")"
      ],
      "metadata": {
        "id": "i_eKeIblFmrf"
      },
      "execution_count": null,
      "outputs": []
    },
    {
      "cell_type": "code",
      "source": [
        "# Observe how each change affects convergence speed and accuracy.\n",
        "import time\n",
        "\n",
        "# Define different model configurations\n",
        "configs = [\n",
        "    (\"Baseline\", dict(hidden_layer_sizes=(64,), activation='relu', solver='adam', max_iter=20)),\n",
        "    (\"Deeper network\", dict(hidden_layer_sizes=(256,128,64), activation='relu', solver='adam', max_iter=20)),\n",
        "    (\"Tanh activation\", dict(hidden_layer_sizes=(128,64), activation='tanh', solver='adam', max_iter=20)),\n",
        "    (\"SGD optimizer\", dict(hidden_layer_sizes=(128,64), activation='relu', solver='sgd', learning_rate_init=0.01, momentum=0.9, max_iter=50)),\n",
        "    (\"Regularized + EarlyStop\", dict(hidden_layer_sizes=(128,64), activation='relu', solver='adam', alpha=0.001, early_stopping=True, validation_fraction=0.1, max_iter=100))\n",
        "]\n",
        "\n",
        "# 3. Run experiments\n",
        "results = []\n",
        "for name, params in configs:\n",
        "    print(f\"\\nTraining model: {name}\")\n",
        "    start = time.time()\n",
        "    mlp = MLPClassifier(random_state=42, **params)\n",
        "    mlp.fit(X_train, y_train)\n",
        "    train_time = time.time() - start\n",
        "    acc = accuracy_score(y_test, mlp.predict(X_test))\n",
        "    results.append((name, acc, train_time, mlp.n_iter_))\n",
        "\n",
        "# 4. Display summary\n",
        "print(\"\\n===== RESULTS SUMMARY =====\")\n",
        "print(f\"{'Model':<25}{'Accuracy':<12}{'Epochs':<10}{'Train Time (s)':<15}\")\n",
        "for name, acc, t, n_iter in results:\n",
        "    print(f\"{name:<25}{acc:<12.4f}{n_iter:<10}{t:<15.1f}\")"
      ],
      "metadata": {
        "id": "CjPhkfPKFrpe"
      },
      "execution_count": null,
      "outputs": []
    },
    {
      "cell_type": "markdown",
      "source": [
        "# 3. Fashion-MNIST image classification  using pytorch"
      ],
      "metadata": {
        "id": "a2qcKggmIH8T"
      }
    },
    {
      "cell_type": "code",
      "source": [
        "import numpy as np\n",
        "from tensorflow.keras.datasets import fashion_mnist\n",
        "import torch\n",
        "from torch.utils.data import TensorDataset, DataLoader\n",
        "\n",
        "# Load Fashion-MNIST\n",
        "# Classes (0-9): T-shirt/top, Trouser, Pullover, Dress, Coat, Sandal, Shirt, Sneaker, Bag, Ankle boot\n",
        "(X_train, y_train), (X_test, y_test) = fashion_mnist.load_data()\n",
        "\n",
        "# scale to [0,1], add channel dimension -> (N, 1, 28, 28)\n",
        "X_train = (X_train.astype(\"float32\") / 255.0)[:, None, :, :]\n",
        "X_test  = (X_test.astype(\"float32\")  / 255.0)[:,  None, :, :]\n",
        "\n",
        "y_train = y_train.astype(np.int64)\n",
        "y_test  = y_test.astype(np.int64)\n",
        "\n",
        "# train/val split: last 10k of train as validation\n",
        "X_tr, X_val = X_train[:50000], X_train[50000:]\n",
        "y_tr, y_val = y_train[:50000], y_train[50000:]\n",
        "\n",
        "# wrap in PyTorch TensorDatasets and DataLoaders\n",
        "train_ds = TensorDataset(torch.from_numpy(X_tr),  torch.from_numpy(y_tr))\n",
        "val_ds   = TensorDataset(torch.from_numpy(X_val), torch.from_numpy(y_val))\n",
        "test_ds  = TensorDataset(torch.from_numpy(X_test), torch.from_numpy(y_test))\n",
        "\n",
        "train_loader = DataLoader(train_ds, batch_size=128, shuffle=True)\n",
        "val_loader   = DataLoader(val_ds,   batch_size=256, shuffle=False)\n",
        "test_loader  = DataLoader(test_ds,  batch_size=256, shuffle=False)"
      ],
      "metadata": {
        "id": "B9IQwhgcIVOl"
      },
      "execution_count": null,
      "outputs": []
    },
    {
      "cell_type": "code",
      "source": [
        "import torch.nn as nn\n",
        "import torch.optim as optim\n",
        "\n",
        "# In colab, you should ``change runtime type'' to GPU.\n",
        "device = torch.device(\"cuda\" if torch.cuda.is_available() else \"cpu\")\n",
        "print(\"Using device:\", device)\n",
        "\n",
        "# your code here"
      ],
      "metadata": {
        "id": "0REsDBunNmEl"
      },
      "execution_count": null,
      "outputs": []
    }
  ]
}